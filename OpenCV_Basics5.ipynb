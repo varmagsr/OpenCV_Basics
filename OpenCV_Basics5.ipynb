{
  "nbformat": 4,
  "nbformat_minor": 0,
  "metadata": {
    "colab": {
      "provenance": [],
      "authorship_tag": "ABX9TyNS8vLJeabULpBTcFsqGRgX",
      "include_colab_link": true
    },
    "kernelspec": {
      "name": "python3",
      "display_name": "Python 3"
    },
    "language_info": {
      "name": "python"
    }
  },
  "cells": [
    {
      "cell_type": "markdown",
      "metadata": {
        "id": "view-in-github",
        "colab_type": "text"
      },
      "source": [
        "<a href=\"https://colab.research.google.com/github/varmagsr/OpenCV_Basics/blob/main/OpenCV_Basics5.ipynb\" target=\"_parent\"><img src=\"https://colab.research.google.com/assets/colab-badge.svg\" alt=\"Open In Colab\"/></a>"
      ]
    },
    {
      "cell_type": "code",
      "execution_count": null,
      "metadata": {
        "colab": {
          "base_uri": "https://localhost:8080/"
        },
        "id": "DMcjRZg8ZBsy",
        "outputId": "cfed9bc0-c881-4ef0-b2fe-bdccd90b7dcf"
      },
      "outputs": [
        {
          "output_type": "stream",
          "name": "stdout",
          "text": [
            "Requirement already satisfied: opencv-contrib-python in /usr/local/lib/python3.10/dist-packages (4.8.0.76)\n",
            "Requirement already satisfied: numpy>=1.21.2 in /usr/local/lib/python3.10/dist-packages (from opencv-contrib-python) (1.25.2)\n"
          ]
        }
      ],
      "source": [
        "#Import Libraries\n",
        "!pip install opencv-contrib-python\n",
        "import cv2\n",
        "import numpy as np\n",
        "\n",
        "#Variables\n",
        "#True when mouse button is DOWN\n",
        "#False when mouse button is UP\n",
        "drawing = False\n",
        "ex = -1\n",
        "ey = -1\n",
        "\n",
        "#Funcation\n",
        "# x, y, flags, param are feed from OpenCV automatically\n",
        "def draw_rectangle(event, x, y, flags, params):\n",
        "\n",
        "  global ex, ey, drawing\n",
        "\n",
        "  if event == cv2.EVENT_LBUTTONDOWN:\n",
        "    drawing = True\n",
        "    ex, ey = x, y\n",
        "  elif event == cv2.EVENT_MOUSEMOVE:\n",
        "    if drawing == True:\n",
        "      cv2.rectangle(img, (ex,ey), (x,y),(255,0,255),-1)\n",
        "  elif event == cv2.EVENT_LBUTTONUP:\n",
        "    drawing = False\n",
        "    cv2.rectangle(img, (ex,ey), (x,y),(255,0,255),-1)\n",
        "\n",
        "\n",
        "#connect the funcation with callback\n",
        "img = np.zeros((512,512,3), np.int8)\n",
        "\n",
        "cv2.namedWindow(winname='my_draw')\n",
        "\n",
        "#callback\n",
        "cv2.setMouseCallback('my_draw', draw_rectangle)\n",
        "\n",
        "#Using Opencv to show the image\n",
        "while True:\n",
        "  cv2.imshow('my_draw', img)\n",
        "\n",
        "  if cv2.waitKey(5) & 0xFF == ord('q'):\n",
        "    break\n",
        "\n",
        "cv2.destroyAllWindows()\n"
      ]
    }
  ]
}