{
  "nbformat": 4,
  "nbformat_minor": 0,
  "metadata": {
    "colab": {
      "provenance": [],
      "authorship_tag": "ABX9TyMkk3MdYKn8qQ3korBONUaS",
      "include_colab_link": true
    },
    "kernelspec": {
      "name": "python3",
      "display_name": "Python 3"
    },
    "language_info": {
      "name": "python"
    }
  },
  "cells": [
    {
      "cell_type": "markdown",
      "metadata": {
        "id": "view-in-github",
        "colab_type": "text"
      },
      "source": [
        "<a href=\"https://colab.research.google.com/github/varmagsr/OpenCV_Basics/blob/main/OpenCV_Basics3.ipynb\" target=\"_parent\"><img src=\"https://colab.research.google.com/assets/colab-badge.svg\" alt=\"Open In Colab\"/></a>"
      ]
    },
    {
      "cell_type": "code",
      "execution_count": 1,
      "metadata": {
        "colab": {
          "base_uri": "https://localhost:8080/"
        },
        "id": "q9pkwS9iRzqQ",
        "outputId": "7cd4ea73-36c8-48e4-adca-02a2757a502a"
      },
      "outputs": [
        {
          "output_type": "stream",
          "name": "stdout",
          "text": [
            "Requirement already satisfied: opencv-contrib-python in /usr/local/lib/python3.10/dist-packages (4.8.0.76)\n",
            "Requirement already satisfied: numpy>=1.21.2 in /usr/local/lib/python3.10/dist-packages (from opencv-contrib-python) (1.25.2)\n"
          ]
        }
      ],
      "source": [
        "#Import Libraries\n",
        "\n",
        "!pip install opencv-contrib-python\n",
        "import cv2\n",
        "import numpy as np\n",
        "\n",
        "\n"
      ]
    },
    {
      "cell_type": "code",
      "source": [
        "\n",
        "#Function\n",
        "# x, y, flags, param are feed from OpenCV\n",
        "def draw_circle(event, x, y, flags, param):\n",
        "  if event == cv2.EVENT_LBUTTONDOWN:\n",
        "    cv2.circle(img, (x,y), 70, (35, 69, 78), -1)\n",
        "\n",
        "\n",
        "#Connect the function with callback\n",
        "cv2.namedWindow(winname='my_drawing')\n",
        "\n",
        "#Callback\n",
        "cv2.setMouseCallback('my_drawing', draw_circle)\n",
        "\n",
        "#Use OpenCV to show the image\n",
        "img = np.zeros((512,512,3), np.int8)\n",
        "\n",
        "while True:\n",
        "  cv2.imshow('my_drawing', img)\n",
        "\n",
        "  if cv2.waitKey(5) & 0xFF == 27:\n",
        "    break\n",
        "\n",
        "cv2.destroyAllWindows()\n"
      ],
      "metadata": {
        "id": "vbTJLDKJR7fn"
      },
      "execution_count": null,
      "outputs": []
    }
  ]
}