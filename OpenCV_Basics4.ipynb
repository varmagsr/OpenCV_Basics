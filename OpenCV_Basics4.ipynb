{
  "nbformat": 4,
  "nbformat_minor": 0,
  "metadata": {
    "colab": {
      "provenance": [],
      "authorship_tag": "ABX9TyOkoPnKjSxhwdMxCv0E0w4M",
      "include_colab_link": true
    },
    "kernelspec": {
      "name": "python3",
      "display_name": "Python 3"
    },
    "language_info": {
      "name": "python"
    }
  },
  "cells": [
    {
      "cell_type": "markdown",
      "metadata": {
        "id": "view-in-github",
        "colab_type": "text"
      },
      "source": [
        "<a href=\"https://colab.research.google.com/github/varmagsr/OpenCV_Basics/blob/main/OpenCV_Basics4.ipynb\" target=\"_parent\"><img src=\"https://colab.research.google.com/assets/colab-badge.svg\" alt=\"Open In Colab\"/></a>"
      ]
    },
    {
      "cell_type": "code",
      "execution_count": 1,
      "metadata": {
        "colab": {
          "base_uri": "https://localhost:8080/"
        },
        "id": "q9pkwS9iRzqQ",
        "outputId": "0d9d506b-4ebe-42ed-bd41-ef04ace21e67"
      },
      "outputs": [
        {
          "output_type": "stream",
          "name": "stdout",
          "text": [
            "Requirement already satisfied: opencv-contrib-python in /usr/local/lib/python3.10/dist-packages (4.8.0.76)\n",
            "Requirement already satisfied: numpy>=1.21.2 in /usr/local/lib/python3.10/dist-packages (from opencv-contrib-python) (1.25.2)\n"
          ]
        }
      ],
      "source": [
        "#Import Libraries\n",
        "\n",
        "!pip install opencv-contrib-python\n",
        "import cv2\n",
        "import numpy as np\n",
        "\n",
        "\n"
      ]
    },
    {
      "cell_type": "code",
      "source": [
        "\n",
        "#Function\n",
        "# x, y, flags, param are feed from OpenCV\n",
        "def draw_circle(event, x, y, flags, param):\n",
        "  if event == cv2.EVENT_LBUTTONDOWN:\n",
        "    cv2.circle(img, (x,y), 100, (75, 131, 251), -1)\n",
        "  elif event == cv2.EVENT_RBUTTONDOWN:\n",
        "    cv2.circle(img, (x,y), 50, (251, 75, 131), -1)\n",
        "\n",
        "\n",
        "\n",
        "#Connect the function with callback\n",
        "cv2.namedWindow(winname='my_draw')\n",
        "\n",
        "#Callback\n",
        "cv2.setMouseCallback('my_draw', draw_circle)\n",
        "\n",
        "#Use OpenCV to show the image\n",
        "img = np.zeros((512,512,3), np.int8)\n",
        "\n",
        "while True:\n",
        "  cv2.imshow('my_draw', img)\n",
        "\n",
        "  if cv2.waitKey(5) & 0xFF == ord('q'):\n",
        "    break\n",
        "\n",
        "cv2.destroyAllWindows()\n"
      ],
      "metadata": {
        "id": "vbTJLDKJR7fn"
      },
      "execution_count": null,
      "outputs": []
    }
  ]
}